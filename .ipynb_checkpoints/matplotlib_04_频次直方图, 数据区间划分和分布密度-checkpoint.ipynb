{
 "cells": [
  {
   "cell_type": "code",
   "execution_count": 1,
   "metadata": {},
   "outputs": [],
   "source": [
    "import numpy as np\n",
    "import pandas as pd\n",
    "import matplotlib.pyplot as plt\n",
    "plt.style.use('seaborn-whitegrid')\n",
    "%matplotlib inline"
   ]
  },
  {
   "cell_type": "markdown",
   "metadata": {},
   "source": [
    "## 1 | `plt.hist`直接创建频次直方图"
   ]
  },
  {
   "cell_type": "code",
   "execution_count": 2,
   "metadata": {},
   "outputs": [
    {
     "data": {
      "text/plain": [
       "(array([  7.,  25.,  83., 125., 218., 237., 179.,  94.,  24.,   8.]),\n",
       " array([-3.07400573, -2.47717948, -1.88035322, -1.28352696, -0.68670071,\n",
       "        -0.08987445,  0.50695181,  1.10377806,  1.70060432,  2.29743058,\n",
       "         2.89425684]),\n",
       " <a list of 10 Patch objects>)"
      ]
     },
     "execution_count": 2,
     "metadata": {},
     "output_type": "execute_result"
    },
    {
     "data": {
      "image/png": "[encoded data removed]",
      "text/plain": [
       "<Figure size 432x288 with 1 Axes>"
      ]
     },
     "metadata": {
      "needs_background": "light"
     },
     "output_type": "display_data"
    }
   ],
   "source": [
    "data = np.random.randn(1000)\n",
    "plt.hist(data)"
   ]
  },
  {
   "cell_type": "code",
   "execution_count": 5,
   "metadata": {},
   "outputs": [
    {
     "data": {
      "text/plain": [
       "(array([0.00502659, 0.01507977, 0.01507977, 0.00502659, 0.05529247,\n",
       "        0.06534565, 0.08042542, 0.16085083, 0.1759306 , 0.1759306 ,\n",
       "        0.16587742, 0.28651554, 0.33678143, 0.34180802, 0.41720685,\n",
       "        0.40212708, 0.39710049, 0.3920739 , 0.3066219 , 0.3066219 ,\n",
       "        0.28651554, 0.17090401, 0.18095719, 0.12063812, 0.0452393 ,\n",
       "        0.04021271, 0.03518612, 0.02513294, 0.00502659, 0.01005318]),\n",
       " array([-3.07400573, -2.87506365, -2.67612156, -2.47717948, -2.27823739,\n",
       "        -2.07929531, -1.88035322, -1.68141113, -1.48246905, -1.28352696,\n",
       "        -1.08458488, -0.88564279, -0.68670071, -0.48775862, -0.28881653,\n",
       "        -0.08987445,  0.10906764,  0.30800972,  0.50695181,  0.70589389,\n",
       "         0.90483598,  1.10377806,  1.30272015,  1.50166224,  1.70060432,\n",
       "         1.89954641,  2.09848849,  2.29743058,  2.49637266,  2.69531475,\n",
       "         2.89425684]),\n",
       " <a list of 1 Patch objects>)"
      ]
     },
     "execution_count": 5,
     "metadata": {},
     "output_type": "execute_result"
    },
    {
     "data": {
      "image/png": "[encoded data removed]",
      "text/plain": [
       "<Figure size 432x288 with 1 Axes>"
      ]
     },
     "metadata": {
      "needs_background": "light"
     },
     "output_type": "display_data"
    }
   ],
   "source": [
    "# 个性化选项\n",
    "# 参数解释: https://blog.csdn.net/qq_37007384/article/details/102880242\n",
    "# bins划分间隔\n",
    "# density的类型是 bool型，指定为True,则为频率直方图，False，频数直方图\n",
    "plt.hist(data , bins = 30, density = True, alpha = 0.5, histtype = 'stepfilled', color = 'steelblue', edgecolor = 'none')"
   ]
  },
  {
   "cell_type": "markdown",
   "metadata": {},
   "source": [
    "### 同坐标轴的多个频次直方图\n",
    "\n",
    "利用`histtype = 'stepfilled'`和`alpha`搭配使用"
   ]
  },
  {
   "cell_type": "code",
   "execution_count": 11,
   "metadata": {},
   "outputs": [
    {
     "data": {
      "text/plain": [
       "(array([0.00618821, 0.00618821, 0.00618821, 0.00928231, 0.01856463,\n",
       "        0.03403515, 0.04022336, 0.05569389, 0.03403515, 0.05569389,\n",
       "        0.07425852, 0.08663494, 0.11757599, 0.14232883, 0.15161114,\n",
       "        0.18564629, 0.18564629, 0.21349324, 0.19802271, 0.21349324,\n",
       "        0.17945808, 0.1237642 , 0.1887404 , 0.13304651, 0.19802271,\n",
       "        0.11138778, 0.07425852, 0.0649762 , 0.04022336, 0.03712926,\n",
       "        0.01547052, 0.03094105, 0.01547052, 0.01547052, 0.01547052,\n",
       "        0.00928231, 0.        , 0.0030941 , 0.        , 0.0030941 ]),\n",
       " array([-2.97926682, -2.65607157, -2.33287632, -2.00968107, -1.68648583,\n",
       "        -1.36329058, -1.04009533, -0.71690008, -0.39370484, -0.07050959,\n",
       "         0.25268566,  0.57588091,  0.89907615,  1.2222714 ,  1.54546665,\n",
       "         1.8686619 ,  2.19185714,  2.51505239,  2.83824764,  3.16144289,\n",
       "         3.48463814,  3.80783338,  4.13102863,  4.45422388,  4.77741913,\n",
       "         5.10061437,  5.42380962,  5.74700487,  6.07020012,  6.39339536,\n",
       "         6.71659061,  7.03978586,  7.36298111,  7.68617635,  8.0093716 ,\n",
       "         8.33256685,  8.6557621 ,  8.97895734,  9.30215259,  9.62534784,\n",
       "         9.94854309]),\n",
       " <a list of 1 Patch objects>)"
      ]
     },
     "execution_count": 11,
     "metadata": {},
     "output_type": "execute_result"
    },
    {
     "data": {
      "image/png": "[encoded data removed]",
      "text/plain": [
       "<Figure size 432x288 with 1 Axes>"
      ]
     },
     "metadata": {
      "needs_background": "light"
     },
     "output_type": "display_data"
    }
   ],
   "source": [
    "x1 = np.random.normal(0, 0.8, 1000)\n",
    "x2 = np.random.normal(-2, 1, 1000)\n",
    "x3 = np.random.normal(3, 2, 1000)\n",
    "\n",
    "kwargs = dict(histtype = 'stepfilled', alpha = 0.3, density = True, bins = 40)\n",
    "\n",
    "plt.hist(x1, **kwargs)\n",
    "plt.hist(x2, **kwargs)\n",
    "plt.hist(x3, **kwargs)"
   ]
  }
 ],
 "metadata": {
  "kernelspec": {
   "display_name": "Python 3",
   "language": "python",
   "name": "python3"
  },
  "language_info": {
   "codemirror_mode": {
    "name": "ipython",
    "version": 3
   },
   "file_extension": ".py",
   "mimetype": "text/x-python",
   "name": "python",
   "nbconvert_exporter": "python",
   "pygments_lexer": "ipython3",
   "version": "3.7.3"
  }
 },
 "nbformat": 4,
 "nbformat_minor": 2
}
